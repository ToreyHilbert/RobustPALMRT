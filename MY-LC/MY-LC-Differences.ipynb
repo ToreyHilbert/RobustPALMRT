{
 "cells": [
  {
   "cell_type": "code",
   "execution_count": 2,
   "metadata": {},
   "outputs": [],
   "source": [
    "import numpy as np\n",
    "import matplotlib.pyplot as plt\n",
    "import pandas as pd\n",
    "import statsmodels.api as sm\n",
    "import re\n",
    "\n",
    "BASE_SEED = 5142024\n",
    "rng = np.random.default_rng(BASE_SEED)\n",
    "\n",
    "# Floating point safe vectorized comparison function\n",
    "W = lambda T_pi1, T_pi2: (~np.isclose(T_pi1, T_pi2) & (T_pi1 > T_pi2)) + 0.5 * np.isclose(T_pi1, T_pi2)\n",
    "\n",
    "########################################################\n",
    "# Read in the data and process it into a usable form\n",
    "########################################################\n",
    "\n",
    "raw_df = pd.read_csv(\"./MY-LC-Data/41586_2023_6651_MOESM4_ESM.csv\")\n",
    "\n",
    "df = raw_df.copy()\n",
    "df = df[df[\"x0_Censor_Complete\"] == 0] # Remove censored patients\n",
    "df[\"LC\"] = (df[\"x0_Censor_Cohort_ID\"] == 3).astype(np.float32) # Retrieve Long Covid Status\n",
    "\n",
    "# Select and rename the features of interest\n",
    "cell_features_names = list(filter(lambda x: re.search(r\"Flow_Cyt_.*ML$\", x), df.columns))\n",
    "other_features = [\n",
    "    \"LC\",\n",
    "    \"x0_Demographics_Age\",\n",
    "    \"x0_Demographics_Sex\",\n",
    "    \"x0_Demographics_BMI\",\n",
    "]\n",
    "all_features = other_features + cell_features_names\n",
    "\n",
    "def feature_renaming(name):\n",
    "    parts = name.split(\"_\")\n",
    "    if (len(parts) == 1):\n",
    "        return(parts[0])\n",
    "    elif (len(parts) == 3):\n",
    "        return(parts[2])\n",
    "    else:\n",
    "        return(parts[3])\n",
    "df = df[all_features].rename(feature_renaming, axis = \"columns\")\n",
    "\n",
    "cell_features_names = list(map(feature_renaming, cell_features_names))\n",
    "demo_features_names = list(map(feature_renaming, other_features[1:]))\n",
    "\n",
    "# Create the design matrix\n",
    "df = df.dropna(subset = [\"Age\", \"Sex\", \"BMI\"]) # First drop any rows that have missing demographics\n",
    "\n",
    "df[\"Sex\"] = df[\"Sex\"] - 1 # Convert Sex to {0, 1} rather than {1, 2}\n",
    "df[\"Age*BMI\"] = df[\"Age\"] * df[\"BMI\"]\n",
    "df[\"Sex*BMI\"] = df[\"Sex\"] * df[\"BMI\"]\n",
    "\n",
    "# Do not standardize X\n",
    "X_unfiltered = df[[\"LC\"]].to_numpy()\n",
    "\n",
    "# Standardize Z\n",
    "Z_unfiltered = df[[\"Age\", \"Sex\", \"BMI\", \"Age*BMI\", \"Sex*BMI\"]].to_numpy()\n",
    "Z_unfiltered = (Z_unfiltered - Z_unfiltered.mean(axis = 0)) / Z_unfiltered.std(axis = 0)\n",
    "Z_unfiltered = np.concatenate([np.ones((Z_unfiltered.shape[0], 1)), Z_unfiltered], axis = 1)\n",
    "\n",
    "feature_names_dict = {}\n",
    "feature_names_dict[\"DC1ofLive\"] = \"cDC1\"\n",
    "feature_names_dict[\"ncMonoofLive\"] = \"Nonclassical monocytes\"\n",
    "feature_names_dict[\"cMonoofLive\"] = \"Classical monocytes\"\n",
    "feature_names_dict[\"TotalNeutofLive\"] = \"Total neutrophils\"\n",
    "feature_names_dict[\"CD16hiNeutofLive\"] = \"CD16hi neutrophils\"\n",
    "feature_names_dict[\"CD16intNeutofLive\"] = \"CD16int neutrophils\"\n",
    "feature_names_dict[\"CD8TofCD3\"] = \"T cell(cytotoxic)\"\n",
    "feature_names_dict[\"NaiveCD8TofCD8\"] = \"CD8+ T(naive)\"\n",
    "feature_names_dict[\"FollCD8ofCD8\"] = \"CD8+ T cell(follicular)\"\n",
    "feature_names_dict[\"CD8TexofCD8\"] = \"CD8+ T cell(exhuasted)\"\n",
    "feature_names_dict[\"CD8TCRactofCD8\"] = \"CD8+ T cell(activated TCR)\"\n",
    "feature_names_dict[\"PD1pCD8TemraofCD8\"] = \"CD8+ T cell(PD1+Temr)\"\n",
    "feature_names_dict[\"CD8TemofCD8\"] = \"CD8+ T cell(Tem)\"\n",
    "feature_names_dict[\"CD8PD1pTcmofCD8\"] = \"CD8+ T cell(PD1+Tcm)\"\n",
    "feature_names_dict[\"CD8PD1pAAofCD8\"] = \"CD8+ T cell(PD1+AA)\"\n",
    "feature_names_dict[\"CD8TemraofCD8\"] = \"CD8+ T cell(Temra)\"\n",
    "feature_names_dict[\"CD4PD1pTcmofCD4\"] = \"CD4+ T cell(PD1+Tcm)\"\n",
    "feature_names_dict[\"CD4IL4pofCD4\"] = \"CD4+ T cell(IL4+)\"\n",
    "feature_names_dict[\"CD4TcmofCD4\"] = \"CD4+ T cell(Tcm)\"\n",
    "feature_names_dict[\"CD4TemofCD4\"] = \"CD4+ T cell(Tem)\"\n",
    "feature_names_dict[\"CD4TexofCD4\"] = \"CD4+ T cell(exhuasted)\"\n",
    "feature_names_dict[\"CD4PD1pAAofCD4\"] = \"CD4+ T cell(PD1+AA)\"\n",
    "feature_names_dict[\"CD4TofCD3\"] = \"T cell(helper)\"\n",
    "feature_names_dict[\"CD4TCRactofCD4\"] = \"CD4+ T cell(activated TCR)\"\n",
    "feature_names_dict[\"CD8CXCR3pofCD8\"] = \"CD8+ T cell(CXCR3+)\"\n",
    "feature_names_dict[\"CD8GranzymeBpofCD8\"] = \"CD8+ T cell(GranzymeB+)\"\n",
    "feature_names_dict[\"CD8TNFapofCD8\"] = \"CD8+ T cell(TNFa+)\"\n",
    "feature_names_dict[\"CD8IFNypofCD8\"] = \"CD8+ T cell(IFNy+)\"\n",
    "feature_names_dict[\"CD4CXCR3pofCD4\"] = \"CD4+ T cell(CXCR3+)\"\n",
    "feature_names_dict[\"CD4IL17pofCD4\"] = \"CD4+ T cell(IL17+)\"\n",
    "feature_names_dict[\"CD4TNFapofCD4\"] = \"CD4+ T cell(TNFa+)\"\n",
    "feature_names_dict[\"CD4IFNypofCD4\"] = \"CD4+ T cell(IFNy+)\"\n",
    "feature_names_dict[\"CD8IL2ofCD8\"] = \"CD8+ T cell(IL2+)\"\n",
    "feature_names_dict[\"CD8IL6ofCD8\"] = \"CD8+ T cell(IL6+)\"\n",
    "feature_names_dict[\"IL4IL6DPofCD4\"] = \"CD4+ T cell(IL4+IL6+)\"\n",
    "feature_names_dict[\"CD86HLADRBofB\"] = \"B cell(activated)\"\n",
    "feature_names_dict[\"ASCofB\"] = \"B cell(antibody-secreting/plasma)\"\n",
    "feature_names_dict[\"USMemofB\"] = \"B cell(memory)\"\n",
    "feature_names_dict[\"CSMemofB\"] = \"B cell(memory)\"\n",
    "feature_names_dict[\"NaiveBofB\"] = \"B cell(naive)\"\n",
    "feature_names_dict[\"DNofB\"] = \"B cell(double negative)\"\n",
    "feature_names_dict[\"IL4IL6DPofCD8\"] = \"CD8+ T cell(IL4+IL6+)\"\n",
    "feature_names_dict[\"IL4ofCD8\"] = \"CD8+ T cell (IL4+)\"\n",
    "feature_names_dict[\"DC2ofLive\"] = \"cDC2\"\n",
    "feature_names_dict[\"CD4IL6ofCD4\"] = \"CD4+ T cell(IL6+)\"\n",
    "feature_names_dict[\"TotalMonoofLive\"] = \"Total monocytes\"\n",
    "feature_names_dict[\"intMonoofLive\"] = \"Intermediate monocytes\"\n",
    "\n",
    "################################################\n",
    "# Load the computed interval information\n",
    "################################################\n",
    "\n",
    "Ftest_df = pd.read_csv(\"./results/MY-LC-Ftest-pvals.csv\", index_col = 0)\n",
    "Scale_df = pd.read_csv(\"./results/MY-LC-ScaleRobustPALMRT-pvals.csv\", index_col = 0)\n",
    "OLS_df = pd.read_csv(\"./results/MY-LC-OLSL2PALMRT-intervals.csv\", index_col = 0)\n",
    "Huber_df = pd.read_csv(\"./results/MY-LC-HuberHuberRobustPALMRT-intervals.csv\", index_col = 0)\n",
    "intervals_info_df = pd.concat([Ftest_df, Scale_df, OLS_df, Huber_df], axis = 1)"
   ]
  },
  {
   "cell_type": "code",
   "execution_count": 3,
   "metadata": {},
   "outputs": [
    {
     "name": "stdout",
     "output_type": "stream",
     "text": [
      "Number of Long-COVID patients: 99\n",
      "Number of Control patients: 77\n"
     ]
    }
   ],
   "source": [
    "print(f\"Number of Long-COVID patients: {(df['LC'] == 1).sum()}\")\n",
    "print(f\"Number of Control patients: {(df['LC'] == 0).sum()}\")"
   ]
  },
  {
   "cell_type": "code",
   "execution_count": 4,
   "metadata": {},
   "outputs": [],
   "source": [
    "Ftest_rejections = set(Ftest_df.index[Ftest_df[\"Ftest-pval\"] <= 0.05])\n",
    "Scale_rejections = set(Scale_df.index[Scale_df[\"Scale-pval\"] <= 0.05])"
   ]
  },
  {
   "cell_type": "code",
   "execution_count": 5,
   "metadata": {},
   "outputs": [
    {
     "data": {
      "text/plain": [
       "{'CD4IFNypofCD4', 'CD4TfhofCD4', 'CD8TNFapofCD8', 'IL4ofCD8'}"
      ]
     },
     "execution_count": 5,
     "metadata": {},
     "output_type": "execute_result"
    }
   ],
   "source": [
    "Scale_rejections.difference(Ftest_rejections)"
   ]
  },
  {
   "cell_type": "code",
   "execution_count": 6,
   "metadata": {},
   "outputs": [
    {
     "data": {
      "text/plain": [
       "{'CD4IFNypofCD4',\n",
       " 'CD4IL2ofCD4',\n",
       " 'CD4IL4pofCD4',\n",
       " 'CD4IL6ofCD4',\n",
       " 'CD4TexofCD4',\n",
       " 'CD4TfhofCD4',\n",
       " 'CD86HLADRBofB',\n",
       " 'CD8IL2ofCD8',\n",
       " 'CD8IL6ofCD8',\n",
       " 'CD8TNFapofCD8',\n",
       " 'DC1ofLive',\n",
       " 'DNofB',\n",
       " 'IL4IL6DPofCD4',\n",
       " 'IL4IL6DPofCD8',\n",
       " 'IL4ofCD8'}"
      ]
     },
     "execution_count": 6,
     "metadata": {},
     "output_type": "execute_result"
    }
   ],
   "source": [
    "Scale_rejections"
   ]
  },
  {
   "cell_type": "code",
   "execution_count": 19,
   "metadata": {},
   "outputs": [
    {
     "name": "stdout",
     "output_type": "stream",
     "text": [
      "Number of rejections by dispersion PALMRT: 15\n"
     ]
    }
   ],
   "source": [
    "print(f\"Number of rejections by dispersion PALMRT: {len(Scale_rejections)}\")"
   ]
  },
  {
   "cell_type": "code",
   "execution_count": 8,
   "metadata": {},
   "outputs": [
    {
     "data": {
      "text/html": [
       "<div>\n",
       "<style scoped>\n",
       "    .dataframe tbody tr th:only-of-type {\n",
       "        vertical-align: middle;\n",
       "    }\n",
       "\n",
       "    .dataframe tbody tr th {\n",
       "        vertical-align: top;\n",
       "    }\n",
       "\n",
       "    .dataframe thead th {\n",
       "        text-align: right;\n",
       "    }\n",
       "</style>\n",
       "<table border=\"1\" class=\"dataframe\">\n",
       "  <thead>\n",
       "    <tr style=\"text-align: right;\">\n",
       "      <th></th>\n",
       "      <th>Scale-pval</th>\n",
       "    </tr>\n",
       "  </thead>\n",
       "  <tbody>\n",
       "    <tr>\n",
       "      <th>CD8TNFapofCD8</th>\n",
       "      <td>0.00650</td>\n",
       "    </tr>\n",
       "    <tr>\n",
       "      <th>IL4ofCD8</th>\n",
       "      <td>0.00775</td>\n",
       "    </tr>\n",
       "    <tr>\n",
       "      <th>CD4TfhofCD4</th>\n",
       "      <td>0.03700</td>\n",
       "    </tr>\n",
       "    <tr>\n",
       "      <th>CD4IFNypofCD4</th>\n",
       "      <td>0.00300</td>\n",
       "    </tr>\n",
       "  </tbody>\n",
       "</table>\n",
       "</div>"
      ],
      "text/plain": [
       "               Scale-pval\n",
       "CD8TNFapofCD8     0.00650\n",
       "IL4ofCD8          0.00775\n",
       "CD4TfhofCD4       0.03700\n",
       "CD4IFNypofCD4     0.00300"
      ]
     },
     "execution_count": 8,
     "metadata": {},
     "output_type": "execute_result"
    }
   ],
   "source": [
    "Scale_df.loc[list(Scale_rejections.difference(Ftest_rejections))]"
   ]
  },
  {
   "cell_type": "code",
   "execution_count": 24,
   "metadata": {},
   "outputs": [
    {
     "name": "stdout",
     "output_type": "stream",
     "text": [
      "Standard deviation of percent of CD8+ T-cells expressing IL6: 7.8%\n",
      "10th percentile of percent of CD8+ T-cells expressing IL6: 0.3%\n",
      "90th percentile of percent of CD8+ T-cells expressing IL6: 11.4%\n"
     ]
    }
   ],
   "source": [
    "print(f\"Standard deviation of percent of CD8+ T-cells expressing IL6: {df['CD8IL6ofCD8'].std():.1f}%\")\n",
    "print(f\"10th percentile of percent of CD8+ T-cells expressing IL6: {df['CD8IL6ofCD8'].quantile(0.10):.1f}%\")\n",
    "print(f\"90th percentile of percent of CD8+ T-cells expressing IL6: {df['CD8IL6ofCD8'].quantile(0.90):.1f}%\")"
   ]
  }
 ],
 "metadata": {
  "kernelspec": {
   "display_name": "dpt",
   "language": "python",
   "name": "python3"
  },
  "language_info": {
   "codemirror_mode": {
    "name": "ipython",
    "version": 3
   },
   "file_extension": ".py",
   "mimetype": "text/x-python",
   "name": "python",
   "nbconvert_exporter": "python",
   "pygments_lexer": "ipython3",
   "version": "3.9.18"
  }
 },
 "nbformat": 4,
 "nbformat_minor": 2
}
